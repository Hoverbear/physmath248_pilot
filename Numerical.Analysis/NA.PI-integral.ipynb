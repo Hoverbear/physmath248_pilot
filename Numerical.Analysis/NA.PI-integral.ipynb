{
 "cells": [
  {
   "cell_type": "markdown",
   "metadata": {
    "collapsed": true
   },
   "source": [
    "## Compute pi using various integral approximations.\n",
    "\n",
    "We compute $\\pi$ using various standard integral approximations.  $\\pi$ is the area of a unit-radius circle.  \n",
    "It is also half the circumference of the same circle.  This gives us two standard integral expressions for $\\pi$.\n",
    "\n",
    "$$\\pi = 2 \\int_{-1}^1 \\sqrt{1-x^2} dx$$\n",
    "\n",
    "$$\\pi = \\int_{-1}^1 \\sqrt{\\frac{1}{1-x^2}} dx$$"
   ]
  },
  {
   "cell_type": "code",
   "execution_count": 1,
   "metadata": {
    "collapsed": false
   },
   "outputs": [
    {
     "name": "stdout",
     "output_type": "stream",
     "text": [
      "Approximation of pi is  3.15241143326  using  20 intervals.\n",
      "Approximation of pi is  3.14749489904  using  30 intervals.\n",
      "Approximation of pi is  3.14543058868  using  40 intervals.\n",
      "Approximation of pi is  3.14434071129  using  50 intervals.\n",
      "Approximation of pi is  3.14368411348  using  60 intervals.\n",
      "Approximation of pi is  3.14325288672  using  70 intervals.\n",
      "Approximation of pi is  3.14295186172  using  80 intervals.\n",
      "Approximation of pi is  3.14273195519  using  90 intervals.\n",
      "Approximation of pi is  3.14256555246  using  100 intervals.\n",
      "Approximation of pi is  3.14243605057  using  110 intervals.\n",
      "Approximation of pi is  3.14233292961  using  120 intervals.\n",
      "Approximation of pi is  3.14224923437  using  130 intervals.\n",
      "Approximation of pi is  3.14218020166  using  140 intervals.\n",
      "Approximation of pi is  3.14212247137  using  150 intervals.\n",
      "Approximation of pi is  3.14207361243  using  160 intervals.\n",
      "Approximation of pi is  3.14203182706  using  170 intervals.\n",
      "Approximation of pi is  3.14199576019  using  180 intervals.\n",
      "Approximation of pi is  3.14196437317  using  190 intervals.\n",
      "Arclength pi approx  3.02067393649  using  100 intervals.\n",
      "Arclength pi approx  3.04284630697  using  150 intervals.\n",
      "Arclength pi approx  3.05606861618  using  200 intervals.\n",
      "Arclength pi approx  3.0650937711  using  250 intervals.\n",
      "Arclength pi approx  3.07175670058  using  300 intervals.\n",
      "Arclength pi approx  3.07693557284  using  350 intervals.\n",
      "Arclength pi approx  3.08111040416  using  400 intervals.\n",
      "Arclength pi approx  3.0845686439  using  450 intervals.\n",
      "Arclength pi approx  3.08749432238  using  500 intervals.\n",
      "Arclength pi approx  3.09001144622  using  550 intervals.\n",
      "Arclength pi approx  3.09220703051  using  600 intervals.\n",
      "Arclength pi approx  3.09414417532  using  650 intervals.\n",
      "Arclength pi approx  3.09586990281  using  700 intervals.\n",
      "Arclength pi approx  3.0974200679  using  750 intervals.\n",
      "Arclength pi approx  3.09882255192  using  800 intervals.\n",
      "Arclength pi approx  3.10009940658  using  850 intervals.\n",
      "Arclength pi approx  3.101268333  using  900 intervals.\n",
      "Arclength pi approx  3.10234372646  using  950 intervals.\n"
     ]
    }
   ],
   "source": [
    "## We compute using the first integral...\n",
    "\n",
    "from math import *\n",
    "\n",
    "## Use k subintervals of the interval I, to integrate the function f. \n",
    "def midpt_integral(f, I, k): \n",
    "    sum = 0\n",
    "    deltax = (I[1]-I[0])/k\n",
    "    for i in range (0, k):\n",
    "        x = ((i/float(k))*I[1]) + ((1-i/float(k))*I[0]) + deltax/2\n",
    "        sum = sum + f(x)*deltax\n",
    "    return sum\n",
    "\n",
    "def yval(x):\n",
    "    return sqrt(1-x*x)\n",
    "\n",
    "def aval(x):\n",
    "    return sqrt(1/(1-x*x))\n",
    "\n",
    "\n",
    "#for i in range (0, P): \n",
    "#    x = 2*(i / float(P)) - 1\n",
    "#    sum = sum + sqrt(1-x*x)*(2 / float(P) )\n",
    "\n",
    "for i in range (2, 20):\n",
    "    print \"Approximation of pi is \", 2*midpt_integral(yval, [-1.0, 1.0], 10*i), \" using \", 10*i, \"intervals.\"\n",
    "\n",
    "for i in range (2, 20):\n",
    "    print \"Arclength pi approx \", midpt_integral(aval, [-1.0, 1.0], 50*i), \" using \", 50*i, \"intervals.\""
   ]
  },
  {
   "cell_type": "code",
   "execution_count": 2,
   "metadata": {
    "collapsed": false
   },
   "outputs": [
    {
     "name": "stdout",
     "output_type": "stream",
     "text": [
      "Simpson 3/8 approximation is  3.13818375982  using  20  intervals.\n",
      "Simpson 3/8 approximation is  3.13973816438  using  30  intervals.\n",
      "Simpson 3/8 approximation is  3.14038847898  using  40  intervals.\n",
      "Simpson 3/8 approximation is  3.1407311676  using  50  intervals.\n",
      "Simpson 3/8 approximation is  3.14093737592  using  60  intervals.\n",
      "Simpson 3/8 approximation is  3.14107269486  using  70  intervals.\n",
      "Simpson 3/8 approximation is  3.1411671006  using  80  intervals.\n",
      "Simpson 3/8 approximation is  3.14123603531  using  90  intervals.\n",
      "Simpson 3/8 approximation is  3.14128817949  using  100  intervals.\n",
      "Simpson 3/8 approximation is  3.14132874872  using  110  intervals.\n",
      "Simpson 3/8 approximation is  3.14136104591  using  120  intervals.\n",
      "Simpson 3/8 approximation is  3.14138725381  using  130  intervals.\n",
      "Simpson 3/8 approximation is  3.1414088667  using  140  intervals.\n",
      "Simpson 3/8 approximation is  3.14142693842  using  150  intervals.\n",
      "Simpson 3/8 approximation is  3.14144223105  using  160  intervals.\n",
      "Simpson 3/8 approximation is  3.14145530827  using  170  intervals.\n",
      "Simpson 3/8 approximation is  3.1414665947  using  180  intervals.\n",
      "Simpson 3/8 approximation is  3.1414764158  using  190  intervals.\n"
     ]
    }
   ],
   "source": [
    "## We compute the integrals again using Simpson's 3/8 rule, also called \"Simpson's 2nd rule\". \n",
    "\n",
    "from math import *\n",
    "\n",
    "def yval(x):\n",
    "    return sqrt(1-x*x)\n",
    "\n",
    "## Use 3k subintervals of the interval I, to integrate the function f. \n",
    "def threeeight_integral(f, I, k): \n",
    "    sum = 0\n",
    "    deltax = (I[1]-I[0])/k\n",
    "    for i in range (0, k):\n",
    "        xa = ((i/float(k))*I[1]) + ((1-i/float(k))*I[0]) \n",
    "        xb = ((i/float(k))*I[1]) + ((1-i/float(k))*I[0]) + deltax/3 \n",
    "        xc = ((i/float(k))*I[1]) + ((1-i/float(k))*I[0]) + (2*deltax)/3\n",
    "        xd = ((i/float(k))*I[1]) + ((1-i/float(k))*I[0]) + deltax\n",
    "        sum = sum + ( f(xa) + 3*f(xb) + 3*f(xc) + f(xd) )*deltax/8\n",
    "    return sum\n",
    "\n",
    "for i in range (2,20):\n",
    "    print \"Simpson 3/8 approximation is \", 2*threeeight_integral(yval, [-1.0,1.0], 10*i), \" using \", 10*i, \" intervals.\"\n",
    "    "
   ]
  },
  {
   "cell_type": "code",
   "execution_count": 34,
   "metadata": {
    "collapsed": false
   },
   "outputs": [
    {
     "name": "stdout",
     "output_type": "stream",
     "text": [
      "Random computation of pi using  1000  points:  3.208\n",
      "Random computation of pi using  1331  points:  3.14951164538\n",
      "Random computation of pi using  1728  points:  3.1087962963\n",
      "Random computation of pi using  2197  points:  3.09695038689\n",
      "Random computation of pi using  2744  points:  3.20262390671\n",
      "Random computation of pi using  3375  points:  3.10992592593\n",
      "Random computation of pi using  4096  points:  3.1064453125\n",
      "Random computation of pi using  4913  points:  3.09546102178\n",
      "Random computation of pi using  5832  points:  3.11865569273\n",
      "Random computation of pi using  6859  points:  3.13340137046\n",
      "Random computation of pi using  8000  points:  3.155\n",
      "Random computation of pi using  9261  points:  3.12752402548\n",
      "Random computation of pi using  10648  points:  3.14725770098\n",
      "Random computation of pi using  12167  points:  3.1120243281\n",
      "Random computation of pi using  13824  points:  3.171875\n",
      "Random computation of pi using  15625  points:  3.168\n",
      "Random computation of pi using  17576  points:  3.13245334547\n",
      "Random computation of pi using  19683  points:  3.17106132195\n",
      "Random computation of pi using  21952  points:  3.14395043732\n",
      "Random computation of pi using  24389  points:  3.14076017877\n",
      "Random computation of pi using  27000  points:  3.13940740741\n",
      "Random computation of pi using  29791  points:  3.15155583901\n",
      "Random computation of pi using  32768  points:  3.14819335938\n",
      "Random computation of pi using  35937  points:  3.13348359629\n",
      "Random computation of pi using  39304  points:  3.1401384083\n",
      "Random computation of pi using  42875  points:  3.14822157434\n",
      "Random computation of pi using  46656  points:  3.1259430727\n",
      "Random computation of pi using  50653  points:  3.12968629696\n",
      "Random computation of pi using  54872  points:  3.14717888905\n",
      "Random computation of pi using  59319  points:  3.13970228763\n",
      "Random computation of pi using  64000  points:  3.1341875\n",
      "Random computation of pi using  68921  points:  3.1322238505\n",
      "Random computation of pi using  74088  points:  3.13432674657\n",
      "Random computation of pi using  79507  points:  3.14196234294\n",
      "Random computation of pi using  85184  points:  3.15124906086\n",
      "Random computation of pi using  91125  points:  3.14096021948\n",
      "Random computation of pi using  97336  points:  3.14021533657\n",
      "Random computation of pi using  103823  points:  3.14627779972\n",
      "Random computation of pi using  110592  points:  3.13501880787\n",
      "Random computation of pi using  117649  points:  3.14032418465\n",
      "Random computation of pi using  125000  points:  3.146112\n",
      "Random computation of pi using  132651  points:  3.14316514764\n",
      "Random computation of pi using  140608  points:  3.13356281293\n",
      "Random computation of pi using  148877  points:  3.14702741189\n",
      "Random computation of pi using  157464  points:  3.13450693492\n",
      "Random computation of pi using  166375  points:  3.14097670924\n",
      "Random computation of pi using  175616  points:  3.13960003644\n",
      "Random computation of pi using  185193  points:  3.13780758452\n",
      "Random computation of pi using  195112  points:  3.14268727705\n",
      "Random computation of pi using  205379  points:  3.13566625604\n"
     ]
    }
   ],
   "source": [
    "## We compute pi using probabilistic method.  Compute n points (uniformly) randomly in the box [-1,1]x[-1,1]\n",
    "## using a random number generator.  Consider the number k of them that are in the unit circle.  4*k/n \n",
    "## should be close to pi.\n",
    "\n",
    "from numpy import *\n",
    "\n",
    "def randomPi( n ):\n",
    "    count = 0\n",
    "    for i in range (0,n):\n",
    "        p = [2*random.random_sample()-1.0, 2*random.random_sample()-1.0]\n",
    "        if p[0]*p[0] + p[1]*p[1] < 1: \n",
    "            count += 1\n",
    "    return 4*count / float(n)\n",
    "\n",
    "for i in range (10, 60):\n",
    "    print \"Random computation of pi using \", i*i*i, \" points: \", randomPi(i*i*i)"
   ]
  },
  {
   "cell_type": "code",
   "execution_count": null,
   "metadata": {
    "collapsed": true
   },
   "outputs": [],
   "source": []
  }
 ],
 "metadata": {
  "kernelspec": {
   "display_name": "Python 2",
   "language": "python",
   "name": "python2"
  },
  "language_info": {
   "codemirror_mode": {
    "name": "ipython",
    "version": 2
   },
   "file_extension": ".py",
   "mimetype": "text/x-python",
   "name": "python",
   "nbconvert_exporter": "python",
   "pygments_lexer": "ipython2",
   "version": "2.7.6"
  }
 },
 "nbformat": 4,
 "nbformat_minor": 0
}
