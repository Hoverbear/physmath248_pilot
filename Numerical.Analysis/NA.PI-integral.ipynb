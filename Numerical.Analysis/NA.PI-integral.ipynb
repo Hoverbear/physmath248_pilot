{
 "cells": [
  {
   "cell_type": "markdown",
   "metadata": {
    "collapsed": true
   },
   "source": [
    "## Compute pi using various integral approximations.\n",
    "\n",
    "We compute $\\pi$ using various standard integral approximations.  $\\pi$ is the area of a unit-radius circle.  \n",
    "It is also half the circumference of the same circle.  This gives us two standard integral expressions for $\\pi$.\n",
    "\n",
    "$$\\pi = 2 \\int_{-1}^1 \\sqrt{1-x^2} dx$$\n",
    "\n",
    "$$\\pi = \\int_{-1}^1 \\sqrt{\\frac{1}{1-x^2}} dx$$"
   ]
  },
  {
   "cell_type": "code",
   "execution_count": 7,
   "metadata": {
    "collapsed": false
   },
   "outputs": [
    {
     "name": "stdout",
     "output_type": "stream",
     "text": [
      "Approximation of pi is  3.15241143326  using  20 intervals.\n",
      "Approximation of pi is  3.14749489904  using  30 intervals.\n",
      "Approximation of pi is  3.14543058868  using  40 intervals.\n",
      "Approximation of pi is  3.14434071129  using  50 intervals.\n",
      "Arclength pi approx  3.02067393649  using  100 intervals.\n",
      "Arclength pi approx  3.04284630697  using  150 intervals.\n",
      "Arclength pi approx  3.05606861618  using  200 intervals.\n",
      "Arclength pi approx  3.0650937711  using  250 intervals.\n"
     ]
    }
   ],
   "source": [
    "## We compute using the first integral...\n",
    "\n",
    "from math import *\n",
    "\n",
    "## Use k subintervals of the interval I, to integrate the function f. \n",
    "def midpt_integral(f, I, k): \n",
    "    sum = 0\n",
    "    deltax = (I[1]-I[0])/float(k)\n",
    "    for i in range (0, k):\n",
    "        x = ((i/float(k))*I[1]) + ((1.0-(i/float(k)))*I[0]) + deltax/2\n",
    "        sum = sum + f(x)*deltax\n",
    "    return sum\n",
    "\n",
    "def yval(x):\n",
    "    return sqrt(1-x*x)\n",
    "\n",
    "def aval(x):\n",
    "    return sqrt(1/(1-x*x))\n",
    "\n",
    "\n",
    "#for i in range (0, P): \n",
    "#    x = 2*(i / float(P)) - 1\n",
    "#    sum = sum + sqrt(1-x*x)*(2 / float(P) )\n",
    "\n",
    "for i in range (2, 6):\n",
    "    print \"Approximation of pi is \", 2*midpt_integral(yval, [-1.0, 1.0], 10*i), \" using \", 10*i, \"intervals.\"\n",
    "\n",
    "for i in range (2, 6):\n",
    "    print \"Arclength pi approx \", midpt_integral(aval, [-1.0, 1.0], 50*i), \" using \", 50*i, \"intervals.\"\n",
    "\n",
    "    "
   ]
  },
  {
   "cell_type": "code",
   "execution_count": 8,
   "metadata": {
    "collapsed": false
   },
   "outputs": [],
   "source": [
    "## TODO: let's create a little visualization to get a sense for what is going on\n",
    "##       for example in the midpoint integral for the area. \n",
    "\n",
    "from matplotlib import *\n",
    "import matplotlib.pyplot as plt\n",
    "import matplotlib.patches as patches\n",
    "import numpy as np\n",
    "from sympy import *\n",
    "var_x = Symbol('x')\n",
    "\n",
    "## let's plot the function as a curve, and the\n",
    "## Riemann sum as rectangles. \n",
    "CA = plt.gca()\n",
    "\n",
    "def midpt_plot(f, I, k):\n",
    "    xax = np.arange(I[0], I[1], (I[1]-I[0])/(k*20)) ## use higher resolution on the function graph\n",
    "    yax = f(xax)\n",
    "    plt.plot(xax,yax, color=\"turquoise\")\n",
    "    delta = (I[1]-I[0])/float(k)\n",
    "    for i in range(0,k):\n",
    "        CA.add_patch(patches.Rectangle( (I[0]+delta*i, 0.0), delta, f(I[0]+delta*(float(i)+0.5)), facecolor=\"pink\") )\n",
    "\n",
    "## matplotlib requires the usage of numpy-library functions.  These functions are a variant\n",
    "## in that they allow list inputs.  A numpy function, such as np.sin performs an element-wise\n",
    "## evaluation of the function, i.e.\n",
    "## np.sin([a,b,c]) = [sin(a), sin(b), sin(c)].  Thus in order to use numpy on sympy functions\n",
    "## we need to `cast' our sympy functions into numpy function.  We do it much like how we\n",
    "## converted sympy expressions into mpmath functions:\n",
    "\n",
    "yval_sympy = (1-var_x**2)**0.5\n",
    "yval_numpy = lambdify(var_x, yval_sympy, \"numpy\")\n",
    "        \n",
    "midpt_plot(yval_numpy, [-1.0, 1.0], 15)\n",
    "CA.text(0.5, 0.96, 2*midpt_integral(yval, [-1.0, 1.0], 15)) \n",
    "CA.text(0.5, 0.9, \"pi = %s\" % np.pi)\n",
    "\n",
    "plt.show()"
   ]
  },
  {
   "cell_type": "code",
   "execution_count": 9,
   "metadata": {
    "collapsed": false
   },
   "outputs": [],
   "source": [
    "## and again with the arclength integral. We have to shrink the interval because\n",
    "## the graph in the midpt_plot function runs into a data type limitation, resulting\n",
    "## in the 1-x^2 expression being zero (as a float) even though it is non-zero as a \n",
    "## real number. \n",
    "\n",
    "plt.close()\n",
    "CA = plt.gca()\n",
    "\n",
    "yval_sympy = (1/(1-var_x**2))**0.5\n",
    "yval_numpy = lambdify(var_x, yval_sympy, \"numpy\")\n",
    "midpt_plot(yval_numpy, [-0.999, 0.999], 25)\n",
    "CA.text(0.5, 15.0, midpt_integral(aval, [-0.999, 0.999], 25))\n",
    "CA.text(0.5, 14.0, \"pi = %s\" % np.pi)\n",
    "\n",
    "plt.show()"
   ]
  },
  {
   "cell_type": "code",
   "execution_count": 11,
   "metadata": {
    "collapsed": false
   },
   "outputs": [
    {
     "name": "stdout",
     "output_type": "stream",
     "text": [
      "Simpson 3/8 approximation is  3.13818375982  using  20  intervals.\n",
      "Simpson 3/8 approximation is  3.13973816438  using  30  intervals.\n",
      "Simpson 3/8 approximation is  3.14038847898  using  40  intervals.\n"
     ]
    }
   ],
   "source": [
    "## We compute the integrals again using Simpson's 3/8 rule, also called \"Simpson's 2nd rule\". \n",
    "\n",
    "from math import *\n",
    "\n",
    "def yval(x):\n",
    "    return sqrt(1-x*x)\n",
    "\n",
    "## Use 3k subintervals of the interval I, to integrate the function f. \n",
    "## this method requires the number of intervals to be divisible by 3. \n",
    "def threeeight_integral(f, I, k): \n",
    "    sum = 0\n",
    "    deltax = (I[1]-I[0])/k\n",
    "    for i in range (0, k):\n",
    "        xa = ((i/float(k))*I[1]) + ((1-i/float(k))*I[0]) \n",
    "        xb = ((i/float(k))*I[1]) + ((1-i/float(k))*I[0]) + deltax/3 \n",
    "        xc = ((i/float(k))*I[1]) + ((1-i/float(k))*I[0]) + (2*deltax)/3\n",
    "        xd = ((i/float(k))*I[1]) + ((1-i/float(k))*I[0]) + deltax\n",
    "        sum = sum + ( f(xa) + 3*f(xb) + 3*f(xc) + f(xd) )*deltax/8\n",
    "    return sum\n",
    "\n",
    "for i in range (2,5):\n",
    "    print \"Simpson 3/8 approximation is \", 2*threeeight_integral(yval, [-1.0,1.0], 10*i), \" using \", 10*i, \" intervals.\"\n",
    "    "
   ]
  },
  {
   "cell_type": "code",
   "execution_count": 5,
   "metadata": {
    "collapsed": false
   },
   "outputs": [
    {
     "name": "stdout",
     "output_type": "stream",
     "text": [
      "Random computation of pi using  1000  points:  3.088\n",
      "Random computation of pi using  1331  points:  3.07738542449\n",
      "Random computation of pi using  1728  points:  3.13888888889\n",
      "Random computation of pi using  2197  points:  3.16067364588\n",
      "Random computation of pi using  2744  points:  3.11078717201\n",
      "Random computation of pi using  3375  points:  3.10044444444\n",
      "Random computation of pi using  4096  points:  3.0869140625\n",
      "Random computation of pi using  4913  points:  3.15570934256\n",
      "Random computation of pi using  5832  points:  3.10836762689\n",
      "Random computation of pi using  6859  points:  3.13340137046\n"
     ]
    }
   ],
   "source": [
    "## We compute pi using probabilistic method.  Compute n points (uniformly) randomly in the box [-1,1]x[-1,1]\n",
    "## using a random number generator.  Consider the number k of them that are in the unit circle.  4*k/n \n",
    "## should be close to pi.\n",
    "\n",
    "from numpy import *\n",
    "\n",
    "def randomPi( n ):\n",
    "    count = 0\n",
    "    for i in range (0,n):\n",
    "        p = [2*random.random_sample()-1.0, 2*random.random_sample()-1.0]\n",
    "        if p[0]*p[0] + p[1]*p[1] < 1: \n",
    "            count += 1\n",
    "    return 4*count / float(n)\n",
    "\n",
    "for i in range (10, 20):\n",
    "    print \"Random computation of pi using \", i*i*i, \" points: \", randomPi(i*i*i)\n",
    "    \n",
    "    "
   ]
  },
  {
   "cell_type": "code",
   "execution_count": 12,
   "metadata": {
    "collapsed": false
   },
   "outputs": [],
   "source": [
    "## Let's check to see if these points in [-1,1]x[-1,1] really appear to be evenly distributed. \n",
    "numpoints = 10000\n",
    "list1 = [2.0*random.random()-1.0 for blah in range(0,numpoints)]\n",
    "list2 = [2.0*random.random()-1.0 for blah in range(0,numpoints)]\n",
    "ax = plt.gca() ## gca() means 'get current axis' -- this is an object one uses to append many things to plots. \n",
    "  ## gcf() is `get current figure' \n",
    "ax.add_patch(plt.Circle((0,0), 1.0, color='black', alpha=0.8, lw=10, fill=False))\n",
    "plt.plot(list1, list2, 'ro')\n",
    "plt.show()"
   ]
  },
  {
   "cell_type": "code",
   "execution_count": null,
   "metadata": {
    "collapsed": true
   },
   "outputs": [],
   "source": []
  }
 ],
 "metadata": {
  "kernelspec": {
   "display_name": "Python 2",
   "language": "python",
   "name": "python2"
  },
  "language_info": {
   "codemirror_mode": {
    "name": "ipython",
    "version": 2
   },
   "file_extension": ".py",
   "mimetype": "text/x-python",
   "name": "python",
   "nbconvert_exporter": "python",
   "pygments_lexer": "ipython2",
   "version": "2.7.6"
  }
 },
 "nbformat": 4,
 "nbformat_minor": 0
}
