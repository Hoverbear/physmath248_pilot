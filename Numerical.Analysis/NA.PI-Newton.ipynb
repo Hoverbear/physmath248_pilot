{
 "cells": [
  {
   "cell_type": "markdown",
   "metadata": {
    "collapsed": true
   },
   "source": [
    "Newton's method to approximate π. / Newton's method to solve for roots of the equation $f(x)=0$.\n",
    "\n",
    "Given an equation $f(x)=0$. Newton's idea is to hope that the linearization of the function $f(x)$\n",
    "at a given approximate solution would have a root which is a better guess for the solutions of\n",
    "$f(x)=0.$\n",
    "\n",
    "This is of course not always true, but often-enough it turns out to be\n",
    "a good idea.\n",
    "\n",
    "The linearization of $f(x)$ at $x_0$ is the function $f′(x_0)(x−x_0)+f(x_0)$ which has the root $f′(x_0)(x−x_0)+f(x_0)=0$ at $x=x_0−\\frac{f(x_0)}{f′(x_0)}$ which becomes our next guess, giving the recursion relation\n",
    "$$x_{n+1}=x_n−\\frac{f(x_n)}{f′(x_n)}$$\n",
    "\n",
    "This is at least a sensible sequence of numbers provided the numbers $f′(x_n)$ are never zero. Only quite rarely does this sequence not converge to a root of the original equation\n",
    "$f(x)=0$. \n",
    "\n",
    "We implement the above recursion relation as Python functions, using\n",
    "several levels of abstraction."
   ]
  },
  {
   "cell_type": "code",
   "execution_count": 23,
   "metadata": {
    "collapsed": false
   },
   "outputs": [
    {
     "name": "stdout",
     "output_type": "stream",
     "text": [
      "(3.155529831651176, 0)\n",
      "(3.141591751110936, 1)\n",
      "(3.141592653589793, 2)\n",
      "(3.141592653589793, 3)\n"
     ]
    }
   ],
   "source": [
    "## Straight-up Newton' method using the built-in Python floating point data types.\n",
    "from math import *\n",
    "\n",
    "def OI_Newton( x ):\n",
    "    return x - sin(x)/cos(x)\n",
    "\n",
    "y = 2.8\n",
    "\n",
    "for i in range(0, 4):\n",
    "    y = OI_Newton( y )\n",
    "    print( y , i )"
   ]
  },
  {
   "cell_type": "code",
   "execution_count": 24,
   "metadata": {
    "collapsed": false
   },
   "outputs": [
    {
     "name": "stdout",
     "output_type": "stream",
     "text": [
      "Mpmath settings:\n",
      "  mp.prec = 167               [default: 53]\n",
      "  mp.dps = 49                 [default: 15]\n",
      "  mp.trap_complex = False     [default: False]\n",
      "('Newton iterator: ', x - sin(x)/cos(x))\n",
      "Initial guess:  2.80000000000000\n",
      "(3.155529831651175900030762613834800165784439485117, 1.0)\n",
      "(3.141591751110935998784729810318920593965559213876, 2.0)\n",
      "(3.141592653589793238707656792980920521396252778174, 7.0)\n",
      "(3.141592653589793238462643383279502884197169399375, 19.0)\n"
     ]
    }
   ],
   "source": [
    "## Using sympy we can do a fairly-general arbitrary-precision Newton's method. \n",
    "## This allows us to input the function on a purely algebraic level.  Sympy \n",
    "## computes the derivative for us. \n",
    "\n",
    "from sympy import *\n",
    "import sympy.mpmath as mp\n",
    "\n",
    "mp.mp.dps = 50\n",
    "mp.mp.prec = mp.mp.dps * 3.34\n",
    "mp.mp.pretty = True\n",
    "\n",
    "print mp.mp\n",
    "\n",
    "sym_x=Symbol(\"x\")\n",
    "## f is a sympy symbolic function, it can *not* be a Python built-in function, \n",
    "## for symbolic functions expressions like f(1.01) do not make sense.  To evaluate\n",
    "## these functions we need to use the evalf routine. See below.\n",
    "def OI_Newton( f ):\n",
    "    g = sym_x - f/diff(f,sym_x)\n",
    "    return g\n",
    "\n",
    "t = sin(sym_x)\n",
    "h = OI_Newton(t)\n",
    "\n",
    "print(\"Newton iterator: \", h )\n",
    "\n",
    "H=Float('2.8')\n",
    "print \"Initial guess: \", H\n",
    "#print type(H)\n",
    "\n",
    "for i in range(0,4): \n",
    "    PH = H\n",
    "    H=h.evalf(mp.mp.dps, subs={sym_x: H})\n",
    "    print(H, -mpmath.floor(mpmath.log(abs(PH-H), 10)) )\n",
    "    "
   ]
  },
  {
   "cell_type": "code",
   "execution_count": 25,
   "metadata": {
    "collapsed": false
   },
   "outputs": [
    {
     "name": "stdout",
     "output_type": "stream",
     "text": [
      "(3.155529831651175877577352603635435038169537119609, 1.0)\n",
      "(3.14159175111093599878909183628323851628042095528, 2.0)\n",
      "(3.141592653589793238707656792980916968665306838556, 7.0)\n",
      "(3.141592653589793238462643383279502884197169399375, 19.0)\n",
      "(3.141592653589793238462643383279502884197169399375, +inf)\n",
      "(3.141592653589793238462643383279502884197169399375, +inf)\n"
     ]
    }
   ],
   "source": [
    "## sympy has a procedure to convert a symbolic function into a standard, callable\n",
    "## function.  It is called lambdify.  We re-write the above routine into one that\n",
    "## uses a callable function.\n",
    "\n",
    "from mpmath import *\n",
    "\n",
    "mp.dps = 50\n",
    "mp.prec = mp.dps * 3.34\n",
    "mp.pretty = True\n",
    "\n",
    "LOI_Newton = lambdify(sym_x, h, \"mpmath\")\n",
    "\n",
    "H=mpf('2.8')\n",
    "for i in range(0,6):\n",
    "    PH = H\n",
    "    H=LOI_Newton(H)\n",
    "    print(H, -mpmath.floor(mpmath.log(abs(PH-H), 10)))\n",
    "    "
   ]
  },
  {
   "cell_type": "markdown",
   "metadata": {},
   "source": [
    "The above is a nice general construction, and we can use it to compute $$\\sqrt{2}$$"
   ]
  },
  {
   "cell_type": "code",
   "execution_count": 36,
   "metadata": {
    "collapsed": false
   },
   "outputs": [
    {
     "name": "stdout",
     "output_type": "stream",
     "text": [
      "x**2 - 2\n",
      "x - (x**2 - 2)/(2*x)\n"
     ]
    }
   ],
   "source": [
    "## We repeat the same with the square root of 2, as the root of x^2 - 2. \n",
    "from sympy import diff ## without this would use the mpmath \"diff\" function\n",
    "t = sym_x**2 - 2\n",
    "print t\n",
    "\n",
    "h = OI_Newton(t)\n",
    "print(h)"
   ]
  },
  {
   "cell_type": "code",
   "execution_count": 37,
   "metadata": {
    "collapsed": false
   },
   "outputs": [
    {
     "name": "stdout",
     "output_type": "stream",
     "text": [
      "(1.416666666666666666666666666666666666666666666667, 2.0)\n",
      "(1.414215686274509803921568627450980392156862745098, 3.0)\n",
      "(1.414213562374689910626295578890134910116559622116, 6.0)\n",
      "(1.414213562373095048801689623502530243614981925776, 12.0)\n",
      "(1.414213562373095048801688724209698078569671875377, 25.0)\n",
      "(1.414213562373095048801688724209698078569671875377, 49.0)\n",
      "(1.414213562373095048801688724209698078569671875377, 50.0)\n",
      "(1.414213562373095048801688724209698078569671875377, 50.0)\n"
     ]
    }
   ],
   "source": [
    "LOI_Newton = lambdify(sym_x, h, \"mpmath\")\n",
    "H=mpf('1.5')\n",
    "for i in range(0,8):\n",
    "    PH = H\n",
    "    H=LOI_Newton(H)\n",
    "    print(H, -mpmath.floor(mpmath.log(abs(PH-H), 10)))"
   ]
  },
  {
   "cell_type": "code",
   "execution_count": null,
   "metadata": {
    "collapsed": true
   },
   "outputs": [],
   "source": []
  }
 ],
 "metadata": {
  "kernelspec": {
   "display_name": "Python 2",
   "language": "python",
   "name": "python2"
  },
  "language_info": {
   "codemirror_mode": {
    "name": "ipython",
    "version": 2
   },
   "file_extension": ".py",
   "mimetype": "text/x-python",
   "name": "python",
   "nbconvert_exporter": "python",
   "pygments_lexer": "ipython2",
   "version": "2.7.6"
  }
 },
 "nbformat": 4,
 "nbformat_minor": 0
}
