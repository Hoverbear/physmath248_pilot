{
 "cells": [
  {
   "cell_type": "markdown",
   "metadata": {
    "collapsed": true
   },
   "source": [
    "Newton's method to approximate π. / Newton's method to solve for roots of the equation $f(x)=0$.\n",
    "\n",
    "Given an equation $f(x)=0$. Newton's idea is to hope that the linearization of the function $f(x)$\n",
    "at a given approximate solution would have a root which is a better guess for the solutions of\n",
    "$f(x)=0.$\n",
    "\n",
    "This is of course not always true, but often-enough it turns out to be\n",
    "a good idea.\n",
    "\n",
    "The linearization of $f(x)$ at $x_0$ is the function $f′(x_0)(x−x_0)+f(x_0)$ which has the root $f′(x_0)(x−x_0)+f(x_0)=0$ at $x=x_0−\\frac{f(x_0)}{f′(x_0)}$ which becomes our next guess, giving the recursion relation\n",
    "$$x_{n+1}=x_n−\\frac{f(x_n)}{f′(x_n)}$$\n",
    "\n",
    "This is at least a sensible sequence of numbers provided the numbers $f′(x_n)$ are never zero. Only quite rarely does this sequence not converge to a root of the original equation\n",
    "$f(x)=0$. \n",
    "\n",
    "We implement the above recursion relation as Python functions, using\n",
    "several levels of abstraction."
   ]
  },
  {
   "cell_type": "code",
   "execution_count": 6,
   "metadata": {
    "collapsed": false
   },
   "outputs": [
    {
     "name": "stdout",
     "output_type": "stream",
     "text": [
      "(3.15552983165118, 0)\n",
      "(3.14159175111094, 1)\n",
      "(3.14159265358979, 2)\n",
      "(3.14159265358979, 3)\n",
      "(3.14159265358979, 4)\n",
      "(3.14159265358979, 5)\n",
      "(3.14159265358979, 6)\n",
      "(3.14159265358979, 7)\n",
      "(3.14159265358979, 8)\n",
      "(3.14159265358979, 9)\n",
      "(3.14159265358979, 10)\n",
      "(3.14159265358979, 11)\n",
      "(3.14159265358979, 12)\n",
      "(3.14159265358979, 13)\n",
      "(3.14159265358979, 14)\n",
      "(3.14159265358979, 15)\n",
      "(3.14159265358979, 16)\n",
      "(3.14159265358979, 17)\n",
      "(3.14159265358979, 18)\n",
      "(3.14159265358979, 19)\n"
     ]
    }
   ],
   "source": [
    "## Straight-up Newton' method. \n",
    "\n",
    "def OI_Newton( x ):\n",
    "    return x - sin(x)/cos(x)\n",
    "\n",
    "x = 2.8\n",
    "\n",
    "for i in range(0, 20):\n",
    "    x = OI_Newton( x )\n",
    "    print( x , i )\n",
    "    \n"
   ]
  },
  {
   "cell_type": "code",
   "execution_count": 3,
   "metadata": {
    "collapsed": false
   },
   "outputs": [
    {
     "name": "stdout",
     "output_type": "stream",
     "text": [
      "<module 'sympy.mpmath' from '/usr/lib/python2.7/dist-packages/sympy/mpmath/__init__.pyc'>\n",
      "('Newton iterator: ', x - sin(x)/cos(x))\n",
      "Initial guess:  2.80000000000000\n",
      "<class 'sympy.core.numbers.Float'>\n",
      "(3.1555298316511759000307626138348001657844394851168, mpf('1.0'))\n",
      "(3.1415917511109359987847298103189205939655592138761, mpf('2.0'))\n",
      "(3.1415926535897932387076567929809205213962527781742, mpf('7.0'))\n",
      "(3.1415926535897932384626433832795028841971693993751, mpf('19.0'))\n",
      "(3.1415926535897932384626433832795028841971693993751, mpf('+inf'))\n",
      "(3.1415926535897932384626433832795028841971693993751, mpf('+inf'))\n",
      "(3.1415926535897932384626433832795028841971693993751, mpf('+inf'))\n",
      "(3.1415926535897932384626433832795028841971693993751, mpf('+inf'))\n",
      "(3.1415926535897932384626433832795028841971693993751, mpf('+inf'))\n",
      "(3.1415926535897932384626433832795028841971693993751, mpf('+inf'))\n",
      "(3.1415926535897932384626433832795028841971693993751, mpf('+inf'))\n",
      "(3.1415926535897932384626433832795028841971693993751, mpf('+inf'))\n",
      "(3.1415926535897932384626433832795028841971693993751, mpf('+inf'))\n",
      "(3.1415926535897932384626433832795028841971693993751, mpf('+inf'))\n",
      "(3.1415926535897932384626433832795028841971693993751, mpf('+inf'))\n",
      "(3.1415926535897932384626433832795028841971693993751, mpf('+inf'))\n",
      "(3.1415926535897932384626433832795028841971693993751, mpf('+inf'))\n",
      "(3.1415926535897932384626433832795028841971693993751, mpf('+inf'))\n",
      "(3.1415926535897932384626433832795028841971693993751, mpf('+inf'))\n",
      "(3.1415926535897932384626433832795028841971693993751, mpf('+inf'))\n"
     ]
    }
   ],
   "source": [
    "## Using sympy we can do a fairly-general arbitrary-precision Newton's method. \n",
    "\n",
    "from sympy import *\n",
    "import sympy.mpmath as mp\n",
    "\n",
    "mp.dps = 50\n",
    "mp.prec = mp.dps * 3.34\n",
    "mp.pretty = True\n",
    "\n",
    "print mp\n",
    "\n",
    "x=symbols(\"x\")\n",
    "\n",
    "def OI_Newton( f ):\n",
    "    g = x - f/diff(f,x)\n",
    "    return g\n",
    "\n",
    "t = sin(x)\n",
    "h = OI_Newton(t)\n",
    "\n",
    "print(\"Newton iterator: \", h )\n",
    "\n",
    "H=Float('2.8')\n",
    "print \"Initial guess: \", H\n",
    "print type(H)\n",
    "\n",
    "for i in range(0,20): \n",
    "    PH = H\n",
    "    H=h.evalf(mp.dps, subs={x: H})\n",
    "    print(H, -mpmath.floor(mpmath.log(abs(PH-H), 10)) )\n",
    "    "
   ]
  },
  {
   "cell_type": "markdown",
   "metadata": {
    "collapsed": false
   },
   "source": [
    "One might ask if we can certify this is a good approximation to $\\pi$?"
   ]
  },
  {
   "cell_type": "code",
   "execution_count": null,
   "metadata": {
    "collapsed": true
   },
   "outputs": [],
   "source": []
  }
 ],
 "metadata": {
  "kernelspec": {
   "display_name": "Python 2",
   "language": "python",
   "name": "python2"
  },
  "language_info": {
   "codemirror_mode": {
    "name": "ipython",
    "version": 2
   },
   "file_extension": ".py",
   "mimetype": "text/x-python",
   "name": "python",
   "nbconvert_exporter": "python",
   "pygments_lexer": "ipython2",
   "version": "2.7.6"
  }
 },
 "nbformat": 4,
 "nbformat_minor": 0
}
