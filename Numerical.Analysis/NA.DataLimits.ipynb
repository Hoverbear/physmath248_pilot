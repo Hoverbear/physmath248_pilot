{
 "cells": [
  {
   "cell_type": "code",
   "execution_count": null,
   "metadata": {
    "collapsed": true
   },
   "outputs": [],
   "source": [
    "## We describe some of the limitations of the native data types, and how one can circumvent these using extensions."
   ]
  },
  {
   "cell_type": "code",
   "execution_count": 29,
   "metadata": {
    "collapsed": false
   },
   "outputs": [
    {
     "name": "stdout",
     "output_type": "stream",
     "text": [
      "Floating point numbers are numbers of the form A*10^B where A and B are integers.\n",
      "\n",
      "For example, to represent the number 1.0324=10324*10-4 so Python would store this as a pair of integers (10324, -4). The first integer, 10324 is called the *significand*.  The second integer -4 is called the *exponent*.  10 is called the *base*.  Since integers are in a fixed amount of system memory (typically one 64-bit register) they are of a *very* limited size, and so floating point numbers have sharp limits on what kinds of numbers they can describe.\n",
      "\n",
      "\n",
      "To determine how many decimal-places of precision your computer has, we compute 1.0 + 10^k for k various negative integers.\n",
      "\n",
      "On my laptop k=-11 is the limit of precision.\n",
      "\n",
      "\n",
      "1.0 + 10^-11 =  1.00000000001\n",
      "1.0 + 10^-12 =  1.0\n",
      "1.0 + 2^-37 =  1.00000000001\n",
      "1.0 + 2^-38 =  1.0 \n",
      "\n",
      "Notice that 2^6 = 64, this indicates that Python uses (roughly) 5 bits for the exponent and 59 bits for the significand.\n",
      "\n"
     ]
    }
   ],
   "source": [
    "x=1.0 ## using the decimal place forces python to use a native float data type. \n",
    "print \"Floating point numbers are numbers of the form A*10^B where A and B are integers.\\n\\nFor example, to represent the number 1.0324=10324*10-4 so Python would store this as a pair of integers (10324, -4). The first integer, 10324 is called the *significand*.  The second integer -4 is called the *exponent*.  10 is called the *base*.  Since integers are in a fixed amount of system memory (typically one 64-bit register) they are of a *very* limited size, and so floating point numbers have sharp limits on what kinds of numbers they can describe.\\n\\n\" \n",
    "print \"To determine how many decimal-places of precision your computer has, we compute 1.0 + 10^k for k various negative integers.\\n\"\n",
    "print \"On my laptop k=-11 is the limit of precision.\\n\\n\"\n",
    "print \"1.0 + 10^-11 = \", 1.0 + pow(10,-11)\n",
    "print \"1.0 + 10^-12 = \", 1.0 + pow(10,-12)\n",
    "print \"1.0 + 2^-37 = \", 1.0 + pow(2, -37)\n",
    "print \"1.0 + 2^-38 = \", 1.0 + pow(2, -38), \"\\n\"\n",
    "\n",
    "print \"Notice that 2^6 = 64, this indicates that Python uses (roughly) 5 bits for the exponent and 59 bits for the significand.\\n\"\n"
   ]
  },
  {
   "cell_type": "code",
   "execution_count": null,
   "metadata": {
    "collapsed": true
   },
   "outputs": [],
   "source": []
  }
 ],
 "metadata": {
  "kernelspec": {
   "display_name": "Python 2",
   "language": "python",
   "name": "python2"
  },
  "language_info": {
   "codemirror_mode": {
    "name": "ipython",
    "version": 2
   },
   "file_extension": ".py",
   "mimetype": "text/x-python",
   "name": "python",
   "nbconvert_exporter": "python",
   "pygments_lexer": "ipython2",
   "version": "2.7.6"
  }
 },
 "nbformat": 4,
 "nbformat_minor": 0
}
