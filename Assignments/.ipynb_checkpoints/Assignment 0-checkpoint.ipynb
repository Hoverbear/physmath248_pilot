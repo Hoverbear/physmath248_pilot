{
 "cells": [
  {
   "cell_type": "markdown",
   "metadata": {},
   "source": [
    "#Assignment 0\n",
    "\n",
    "__Due:__\n",
    "\n",
    "You have propably never submitted an assignment by committing it to your bitbucket git repo. You may also never have created your assignment in an ipython notebook. In order to give you a chance to practice please work through and submit _Assignment 0_. It will not be graded, but the TAs will look at it and provide general feedback in the tutorial.\n",
    "\n",
    "## About assignments\n"
   ]
  }
 ],
 "metadata": {
  "kernelspec": {
   "display_name": "Python 2",
   "language": "python",
   "name": "python2"
  },
  "language_info": {
   "codemirror_mode": {
    "name": "ipython",
    "version": 2
   },
   "file_extension": ".py",
   "mimetype": "text/x-python",
   "name": "python",
   "nbconvert_exporter": "python",
   "pygments_lexer": "ipython2",
   "version": "2.7.9"
  }
 },
 "nbformat": 4,
 "nbformat_minor": 0
}
