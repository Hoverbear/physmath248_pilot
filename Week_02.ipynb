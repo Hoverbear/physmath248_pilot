{
 "cells": [
  {
   "cell_type": "markdown",
   "metadata": {},
   "source": [
    "## This week\n",
    "\n",
    "- project: \n",
    "\t* integration: Ludolphine number\n",
    " \t* newton's method: find root of  $ 0 = \\sin(x) $\n",
    " \t* MC\n",
    "- unix OS, git\n",
    "- python\n",
    "    * flow control\n",
    "    * a line plot of the answer, e.g. numerical convergence\n",
    "- quiz\n",
    "\n",
    "Assignment 1 (individual) \n",
    "* produce a notebook that determines $ \\pi $ in 2 different ways\n",
    "* comment on convergence, demonstrate in a line plot\n",
    "* Euler number?"
   ]
  },
  {
   "cell_type": "markdown",
   "metadata": {},
   "source": [
    "### Advanced distributed version control system\n",
    "\n",
    "__Homework:__  \n",
    "* Study [Git essentials for this course, instructions](https://github.com/fherwig/physmath248_pilot/blob/master/git_intro.ipynb) \n",
    "* Sign up for an account at either Bitbucket or GitHub (see notes in instructions!)\n",
    "* create your private course repo using the naming scheme explained in the instruction\n",
    "* share your private repo with the instructors and the TAs, there account names can be found in [README.md](https://github.com/fherwig/physmath248_pilot/blob/master/README.md)\n",
    "* send your private repo address user ID per email to the TA, subject line: _PM248 student repo_. The email should contain one line with the following entries:\n",
    "```\n",
    "StudentNumber, Lastname, Firstname(s), https://bitbucket.org/your_bitbucket_ID/xxx24816_lastname_firstname\n",
    "```\n",
    "where, as specified in the [instructions](https://github.com/fherwig/physmath248_pilot/blob/master/git_intro.ipynb) `xxx` is either `phys` or `math`. "
   ]
  },
  {
   "cell_type": "markdown",
   "metadata": {},
   "source": [
    "## Tutorial\n",
    "\n",
    "* set up git account and repo, share with instructors and TA\n",
    "* ...\n"
   ]
  },
  {
   "cell_type": "code",
   "execution_count": null,
   "metadata": {
    "collapsed": true
   },
   "outputs": [],
   "source": []
  }
 ],
 "metadata": {
  "kernelspec": {
   "display_name": "Python 2",
   "language": "python",
   "name": "python2"
  },
  "language_info": {
   "codemirror_mode": {
    "name": "ipython",
    "version": 2
   },
   "file_extension": ".py",
   "mimetype": "text/x-python",
   "name": "python",
   "nbconvert_exporter": "python",
   "pygments_lexer": "ipython2",
   "version": "2.7.9"
  }
 },
 "nbformat": 4,
 "nbformat_minor": 0
}
