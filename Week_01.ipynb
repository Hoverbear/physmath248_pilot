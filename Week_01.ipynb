{
 "cells": [
  {
   "cell_type": "markdown",
   "metadata": {},
   "source": [
    "# Introduction: tools and first applications\n",
    "\n",
    "\n",
    "## Course introduction\n",
    "\n",
    "This is a pilot course for an upcoming new 2$^\\mathrm{nd}$ year course _\n",
    "Computer Assisted Mathematics/Physics_. This course is offered jointly \n",
    "by the Mathematics and Physics & Astronomy Departments.\n",
    "\n",
    "Math 248 Units: 1.5.  Hours: 2-1-0. \n",
    "Also: PHYS 248\n",
    "\n",
    "The calendar entry summarizes the goal of this course:\n",
    "\n",
    "> Use of a high-level computer language for mathematical and scientific  experimentation, simulation, and calculation. Programming of mathematics using available functions and routines and also writing short programs for symbolic and numerical computations, visualization, graphical output, and data management.  The purpose of the course is to become competent with a high-level mathematics language and to practice programming in such a language. The emphasis is on hands-on coding for experimentation in a variety of mathematical and physical contexts, rather than the theory behind it. \n",
    "\n",
    ">Note: Credit will be granted for only one of 248, PHYS 248\n",
    "Prerequisites:\n",
    "-110 or 211; and\n",
    "-200; and\n",
    "-CSC 110 or 111.\n",
    "\n",
    "Participating in this course is an opportunity. Enjoy a low student-instructor ratio and participate in the creation of a new course. Feedback, suggestions and student participation is explicitily requested in this course. \n",
    "\n",
    "## Computer language\n",
    "This course could be taught in many languages. We have choosen [Python](https://www.python.org) for a number of reasons:\n",
    "* freely available\n",
    "* very mature\n",
    "* used by scientist in their day-to-day operation, and by many others (including, apparently, Youtube and Dropbox)\n",
    "* extendable, e.g. [symbolic computing](http://www.sympy.org/en/index.html), [astronomy](http://www.astropython.org), [masth, science and engeneering](http://www.scipy.org) and much, much more\n",
    "* integrate data aquistion, model building, analysis, simulation and visualisation in one framework\n",
    "\n",
    "\n",
    "## Literature and online resources\n",
    "\n",
    "We will not follow one individual text book in this course, but many topics in this course are covered in books on Python-based Computational Physics and Mathematics: \n",
    "\n",
    "* [Newman: Computational Physics _with Python_](http://www-personal.umich.edu/~mejn/computational-physics) (Some chapters are online)\n",
    "* [Stickler & Schachinger: Basic Concepts in Computational Physics](http://voyager.library.uvic.ca/vwebv/holdingsInfo?bibId=3086030) (available as ebook from the UVic library)\n",
    "* [Langtangen: A Primer on Scientific Programming with Python](http://voyager.library.uvic.ca/vwebv/holdingsInfo?searchId=4972&recCount=25&recPointer=13&bibId=2865846) (available as ebook from the UVic library)\n",
    "* [Roundy: Introduction to Computational Physics](http://www.lulu.com/ca/en/shop/david-roundy/introduction-to-computational-physics/ebook/product-17437845.html) (free ebook)\n",
    "* [Cunningham: Python in 24 hours](http://voyager.library.uvic.ca/vwebv/holdingsInfo?searchId=5015&recCount=25&recPointer=17&bibId=3208444) (available as ebook from the UVic library)\n",
    "* [Pierro: Annotaed Algorithms in Python](https://books.google.ca/books/about/Annotated_Algorithms_in_Python.html?id=cZyPngEACAAJ&redir_esc=y)\n",
    "\n",
    "Specifically for numerical work there is the classic text [Press etal.: Numerical Recipes](http://www.nr.com) also available from our library!\n",
    "\n",
    "A lot of course resources are online, including online tutorials e.g. [codeacademy.org](https://www.codecademy.com/learn/python) or [lernpython.org](http://www.learnpython.org). \n"
   ]
  },
  {
   "cell_type": "markdown",
   "metadata": {},
   "source": [
    "## ipython notebooks, markdown\n",
    "\n",
    "We are using [ipython](http://ipython.org) [notebooks](https://ipython.org/ipython-doc/1/interactive/notebook.html) extensively in this course. These notebooks can be converted to static formats using the `Download as` _File_ menu option or using [nbconvert](https://ipython.org/ipython-doc/1/interactive/nbconvert.html).\n",
    "\n",
    "Ipython notebook cells come mainly in two variants [ref](https://ipython.org/ipython-doc/1/interactive/notebook.html):\n",
    "* Text cells allow [basic editing with Markdown](http://nestacms.com/docs/creating-content/markdown-cheat-sheet) and are used to describe the problem, methods, results, conclusions. \n",
    "* _Code cells_ contain executable python text. \n",
    "\n",
    "The _Help_ menu provides an overview of the `Keyboard shortcuts` and it very useful to have nearby for frequent reference. \n",
    "\n",
    "For your homework or any other submission you will provide both the life notebook as well as a static html version. The latter has all the images and plots and the rendering of the markdown cells exacly as you see it when you are submitting the work.\n"
   ]
  },
  {
   "cell_type": "markdown",
   "metadata": {},
   "source": []
  },
  {
   "cell_type": "markdown",
   "metadata": {},
   "source": [
    "In progress ...\n",
    "\n",
    "Course organiziation\n",
    "\n",
    "    - project: \n",
    "    \t* integration: Ludolphine number\n",
    "    \t* newton's method: find root of $$$0 =  sin(x)$$$\n",
    "    \t* MC\n",
    "    - the VM\n",
    "    - unix OS, VM, git, \n",
    "    - python\n",
    "        * flow control\n",
    "        * a line plot of the answer, e.g. numerical convergence\n",
    "    - quiz\n",
    "\n",
    "Homework (individual) \n",
    "* produce a notebook that determines $$$\\pi$$$ in 2 different ways\n",
    "* comment on convergence, demonstrate in a line plot\n",
    "* Euler number?"
   ]
  }
 ],
 "metadata": {
  "kernelspec": {
   "display_name": "Python 2",
   "language": "python",
   "name": "python2"
  },
  "language_info": {
   "codemirror_mode": {
    "name": "ipython",
    "version": 2
   },
   "file_extension": ".py",
   "mimetype": "text/x-python",
   "name": "python",
   "nbconvert_exporter": "python",
   "pygments_lexer": "ipython2",
   "version": "2.7.9"
  }
 },
 "nbformat": 4,
 "nbformat_minor": 0
}
